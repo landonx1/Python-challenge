{
 "cells": [
  {
   "cell_type": "code",
   "execution_count": null,
   "metadata": {},
   "outputs": [],
   "source": [
    "import os\n",
    "import csv"
   ]
  },
  {
   "cell_type": "code",
   "execution_count": null,
   "metadata": {},
   "outputs": [],
   "source": [
    "curDir = os.path.dirname(os.path.realpath(\"__file__\"))\n",
    "election_csv = os.path,join(curDir,'Resources','election_data.csv')"
   ]
  },
  {
   "cell_type": "code",
   "execution_count": null,
   "metadata": {},
   "outputs": [],
   "source": [
    "def addVote(ballot,county,candidate,candidates):\n",
    "    if not candidate in candidates:\n",
    "    else:\n",
    "        candidates = [candidate].append((ballot))\n",
    "\n",
    "def getpercentage(partVal,fullVal):\n",
    "    val = 100 * float(partVal)/float(fullVal)\n",
    "    result = \"{:.3f}\".format(val)\n",
    "    return f\"{result}%\"\n",
    "\n",
    "totalVotes=0\n",
    "candidates=[]\n",
    "winner=\"\"\n",
    "lines=[]"
   ]
  }
 ],
 "metadata": {
  "language_info": {
   "name": "python"
  },
  "orig_nbformat": 4
 },
 "nbformat": 4,
 "nbformat_minor": 2
}
