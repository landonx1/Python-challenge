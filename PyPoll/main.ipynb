{
 "cells": [
  {
   "cell_type": "code",
   "execution_count": 23,
   "metadata": {},
   "outputs": [],
   "source": [
    "import os\n",
    "import csv"
   ]
  },
  {
   "cell_type": "code",
   "execution_count": 24,
   "metadata": {},
   "outputs": [],
   "source": [
    "election_csv = os.path.join(os.getcwd(),'Resources','election_data.csv')"
   ]
  },
  {
   "cell_type": "code",
   "execution_count": 25,
   "metadata": {},
   "outputs": [],
   "source": [
    "def addVote(ballot,county,candidate,candidates):\n",
    "    if not candidate in candidates:\n",
    "        candidates[candidate]=[(ballot)]\n",
    "    else:\n",
    "        candidates[candidate].append((ballot))\n",
    "\n",
    "def getpercentage(partVal,fullVal):\n",
    "    val = 100 * float(partVal)/float(fullVal)\n",
    "    result = \"{:.3f}\".format(val)\n",
    "    return f\"{result}%\"\n",
    "\n",
    "totalVotes=0\n",
    "candidates={}\n",
    "winner=\"\"\n",
    "lines=[]\n",
    "\n",
    "with open(election_csv) as csvFile:\n",
    "    fileReader=csv.reader(csvFile,delimiter=\",\")\n",
    "\n",
    "    fileReader=next(csvFile)\n",
    "\n",
    "    for line in csv.reader(csvFile,delimiter=\",\"):\n",
    "        lines.append(line)\n",
    "        addVote(line[0],line[1],line[2],candidates)\n",
    "\n",
    "\n",
    "totalVotes=str(len(lines))\n",
    "\n",
    "votes=0\n",
    "for cand, ids in candidates.items():\n",
    "    popvotes=len(ids)\n",
    "    if(popvotes>votes):\n",
    "        votes=popvotes\n",
    "        winner=cand"
   ]
  },
  {
   "cell_type": "code",
   "execution_count": 26,
   "metadata": {},
   "outputs": [
    {
     "name": "stdout",
     "output_type": "stream",
     "text": [
      "Election Results\n",
      "------------------------------\n",
      "Total Votes: 369711\n",
      "------------------------------\n",
      "Charles Casper Stockham: 23.049% (85213)\n",
      "Diana DeGette: 73.812% (272892)\n",
      "Raymon Anthony Doane: 3.139% (11606)\n",
      "----------------------------\n",
      "Winner: Diana DeGette\n",
      "----------------------------\n"
     ]
    }
   ],
   "source": [
    "# output the results to terminal\n",
    "print(\"Election Results\")\n",
    "print(\"------------------------------\")\n",
    "print(f\"Total Votes: {totalVotes}\")\n",
    "print(\"------------------------------\")\n",
    "for voter,ids in candidates.items():\n",
    "    pervotes=getpercentage(len(ids),totalVotes)\n",
    "    print(f\"{voter}: {pervotes} ({len(ids)})\")\n",
    "print(\"----------------------------\")\n",
    "print(f\"Winner: {winner}\")\n",
    "print(\"----------------------------\")"
   ]
  },
  {
   "cell_type": "code",
   "execution_count": 27,
   "metadata": {},
   "outputs": [],
   "source": [
    "# output the results to text file\n",
    "with open(\"pypoll_results.txt\",\"w\") as output:\n",
    "    output.write(\"Election Results\\n\")\n",
    "    output.write(\"------------------------------\\n\")\n",
    "    output.write(f\"Total Votes: {totalVotes}\\n\")\n",
    "    output.write(\"------------------------------\\n\")\n",
    "    for voter,ids in candidates.items():\n",
    "        pervotes=getpercentage(len(ids),totalVotes)\n",
    "        output.write(f\"{voter}: {pervotes} ({len(ids)})\\n\")\n",
    "    output.write(\"----------------------------\\n\")\n",
    "    output.write(f\"Winner: {winner}\\n\")\n",
    "    output.write(\"----------------------------\\n\")\n",
    "\n",
    "output.close()"
   ]
  }
 ],
 "metadata": {
  "kernelspec": {
   "display_name": "base",
   "language": "python",
   "name": "python3"
  },
  "language_info": {
   "codemirror_mode": {
    "name": "ipython",
    "version": 3
   },
   "file_extension": ".py",
   "mimetype": "text/x-python",
   "name": "python",
   "nbconvert_exporter": "python",
   "pygments_lexer": "ipython3",
   "version": "3.10.9"
  },
  "orig_nbformat": 4
 },
 "nbformat": 4,
 "nbformat_minor": 2
}
