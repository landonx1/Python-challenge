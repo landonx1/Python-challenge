{
 "cells": [
  {
   "cell_type": "code",
   "execution_count": 1,
   "metadata": {},
   "outputs": [],
   "source": [
    "import os\n",
    "import csv"
   ]
  },
  {
   "cell_type": "code",
   "execution_count": 2,
   "metadata": {},
   "outputs": [
    {
     "name": "stdout",
     "output_type": "stream",
     "text": [
      "C:\\Users\\Landon\\OneDrive\\Documents\\DataAnalyticsBootCamp\\repos\\Python-challenge\\PyBank\\Resources\\budget_data.csv\n"
     ]
    }
   ],
   "source": [
    "curDir = os.path.dirname(os.path.realpath(\"__file__\"))\n",
    "budget_csv = os.path.join(curDir, 'Resources', 'budget_data.csv') \n",
    "\n",
    "print(budget_csv)"
   ]
  },
  {
   "cell_type": "code",
   "execution_count": 10,
   "metadata": {},
   "outputs": [
    {
     "name": "stdout",
     "output_type": "stream",
     "text": [
      "First: Date,Profit/Losses\n",
      "\n",
      "86\n",
      "22564198\n"
     ]
    }
   ],
   "source": [
    "monthsTotal=0\n",
    "netTotal=0\n",
    "profitInc=\"\"\n",
    "profitIncVal=0\n",
    "profitDec=\"\" \n",
    "profitDecVal=0\n",
    "\n",
    "with open(budget_csv) as cvs_doc:\n",
    "    csv_reader = csv.reader(cvs_doc, delimiter = \",\")\n",
    " \n",
    "    csv_reader=next(cvs_doc)\n",
    "    print(f\"First: {csv_reader}\")\n",
    "\n",
    "   \n",
    "    for line in csv.reader(cvs_doc):\n",
    "        monthsTotal += 1\n",
    "        netTotal += int(line[1])\n",
    "\n",
    "        if profitIncVal > netTotal:\n",
    "            profitIncVal += netTotal\n",
    "            profitInc = line[0]\n",
    "\n",
    "        if profitDecVal < netTotal:\n",
    "            profitDecVal += netTotal\n",
    "            profitDec = line[0]\n",
    "\n",
    "# print(str(monthsTotal))\n",
    "# print(str(int(netTotal)))\n",
    "\n"
   ]
  },
  {
   "cell_type": "code",
   "execution_count": 11,
   "metadata": {},
   "outputs": [
    {
     "name": "stdout",
     "output_type": "stream",
     "text": [
      "Financial Analysis\n",
      "------------------------------\n",
      "Total Months: 86\n",
      "Total: $22564198\n",
      "Greatest Increase in Profits: Feb-11 ($-879590)\n",
      "Greatest Decrease in Profits: Feb-17 ($22564198)\n"
     ]
    }
   ],
   "source": [
    "print(\"Financial Analysis\")\n",
    "print(\"------------------------------\")\n",
    "print(f\"Total Months: {str(monthsTotal)}\")\n",
    "print(f\"Total: ${str(netTotal)}\")\n",
    "print(f\"Greatest Increase in Profits: {profitInc} (${str(profitIncVal)})\")\n",
    "print(f\"Greatest Decrease in Profits: {profitDec} (${str(profitDecVal)})\")\n"
   ]
  }
 ],
 "metadata": {
  "kernelspec": {
   "display_name": "base",
   "language": "python",
   "name": "python3"
  },
  "language_info": {
   "codemirror_mode": {
    "name": "ipython",
    "version": 3
   },
   "file_extension": ".py",
   "mimetype": "text/x-python",
   "name": "python",
   "nbconvert_exporter": "python",
   "pygments_lexer": "ipython3",
   "version": "3.10.9"
  },
  "orig_nbformat": 4
 },
 "nbformat": 4,
 "nbformat_minor": 2
}
