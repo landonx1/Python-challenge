{
 "cells": [
  {
   "cell_type": "code",
   "execution_count": 1,
   "metadata": {},
   "outputs": [],
   "source": [
    "import os\n",
    "import csv"
   ]
  },
  {
   "cell_type": "code",
   "execution_count": 2,
   "metadata": {},
   "outputs": [
    {
     "name": "stdout",
     "output_type": "stream",
     "text": [
      "C:\\Users\\Landon\\OneDrive\\Documents\\DataAnalyticsBootCamp\\repos\\Python-challenge\\PyBank\\Resources\\budget_data.csv\n"
     ]
    }
   ],
   "source": [
    "curDir = os.path.dirname(os.path.realpath(\"__file__\"))\n",
    "budget_csv = os.path.join(curDir, 'Resources', 'budget_data.csv') \n",
    "\n",
    "print(budget_csv)"
   ]
  },
  {
   "cell_type": "code",
   "execution_count": 3,
   "metadata": {},
   "outputs": [
    {
     "name": "stdout",
     "output_type": "stream",
     "text": [
      "First: Date,Profit/Losses\n",
      "\n"
     ]
    }
   ],
   "source": [
    "with open(budget_csv) as cvs_doc:\n",
    "    csv_reader = csv.reader(cvs_doc, delimiter = \",\")\n",
    " \n",
    "    csv_reader=next(cvs_doc)\n",
    "\n",
    "print(f\"First: {csv_reader}\")\n",
    "\n",
    "monthsTotal = csv_reader.count()\n",
    "print(str(monthsTotal))\n",
    "\n"
   ]
  }
 ],
 "metadata": {
  "kernelspec": {
   "display_name": "base",
   "language": "python",
   "name": "python3"
  },
  "language_info": {
   "codemirror_mode": {
    "name": "ipython",
    "version": 3
   },
   "file_extension": ".py",
   "mimetype": "text/x-python",
   "name": "python",
   "nbconvert_exporter": "python",
   "pygments_lexer": "ipython3",
   "version": "3.10.9"
  },
  "orig_nbformat": 4
 },
 "nbformat": 4,
 "nbformat_minor": 2
}
