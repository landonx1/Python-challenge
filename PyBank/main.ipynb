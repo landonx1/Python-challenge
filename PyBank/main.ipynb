{
 "cells": [
  {
   "cell_type": "code",
   "execution_count": 10,
   "metadata": {},
   "outputs": [],
   "source": [
    "import os\n",
    "import csv\n",
    "import numpy as np"
   ]
  },
  {
   "cell_type": "code",
   "execution_count": 11,
   "metadata": {},
   "outputs": [
    {
     "name": "stdout",
     "output_type": "stream",
     "text": [
      "C:\\Users\\Landon\\OneDrive\\Documents\\DataAnalyticsBootCamp\\repos\\Python-challenge\\PyBank\\Resources\\budget_data.csv\n"
     ]
    }
   ],
   "source": [
    "curDir = os.path.dirname(os.path.realpath(\"__file__\"))\n",
    "budget_csv = os.path.join(curDir, 'Resources', 'budget_data.csv') \n",
    "\n",
    "print(budget_csv)"
   ]
  },
  {
   "cell_type": "code",
   "execution_count": 16,
   "metadata": {},
   "outputs": [
    {
     "name": "stdout",
     "output_type": "stream",
     "text": [
      "-8311.11\n"
     ]
    }
   ],
   "source": [
    "monthsTotal=0\n",
    "netTotal=0\n",
    "profitInc=\"\"\n",
    "profitIncVal=0\n",
    "profitDec=\"\" \n",
    "profitDecVal=0\n",
    "profitChanges=[]\n",
    "lines=[]\n",
    "previousprofit=0\n",
    "\n",
    "with open(budget_csv) as cvs_doc:\n",
    "    csv_reader=csv.reader(cvs_doc, delimiter = \",\")\n",
    " \n",
    "    csv_reader=next(cvs_doc)\n",
    "    # print(f\"First: {csv_reader}\")\n",
    "\n",
    "   \n",
    "    for line in csv.reader(cvs_doc):\n",
    "        profit=int(line[1])\n",
    "        monthsTotal += 1\n",
    "        netTotal += profit\n",
    "       \n",
    "\n",
    "        \n",
    "        lines.append(line)\n",
    "        profitChange=profit-previousprofit\n",
    "        profitChanges.append(profitChange)\n",
    "        previousprofit=profit\n",
    "\n",
    "\n",
    "profitIncVal=max(profitChanges)\n",
    "profitInc=str(lines[profitChanges.index(profitIncVal)][0])\n",
    "profitDecVal=min(profitChanges)\n",
    "profitDec=str(lines[profitChanges.index(profitDecVal)][0])\n",
    "\n",
    "profits = [int(x[1]) for x in lines]\n",
    "\n",
    "a = np.array(profits)\n",
    "\n",
    "averageChange = \"{:.2f}\". format(sum(np.diff(a)) / len(np.diff(a)))\n",
    "\n",
    "print(str(averageChange))\n",
    "\n"
   ]
  },
  {
   "cell_type": "code",
   "execution_count": 17,
   "metadata": {},
   "outputs": [
    {
     "name": "stdout",
     "output_type": "stream",
     "text": [
      "Financial Analysis\n",
      "------------------------------\n",
      "Total Months: 86\n",
      "Total: $22564198\n",
      "Average Change: $-8311.11\n",
      "Greatest Increase in Profits: Aug-16 ($1862002)\n",
      "Greatest Decrease in Profits: Feb-14 ($-1825558)\n"
     ]
    }
   ],
   "source": [
    "print(\"Financial Analysis\")\n",
    "print(\"------------------------------\")\n",
    "print(f\"Total Months: {str(monthsTotal)}\")\n",
    "print(f\"Total: ${str(netTotal)}\")\n",
    "print(f\"Average Change: ${str(averageChange)}\")\n",
    "print(f\"Greatest Increase in Profits: {profitInc} (${str(profitIncVal)})\")\n",
    "print(f\"Greatest Decrease in Profits: {profitDec} (${str(profitDecVal)})\")\n"
   ]
  },
  {
   "cell_type": "code",
   "execution_count": 18,
   "metadata": {},
   "outputs": [],
   "source": [
    "# output the results to a text file\n",
    "with open(\"pybank_results.txt\", \"w\") as outputFile:\n",
    "    outputFile.write(\"Financial Analysis\\n\")\n",
    "    outputFile.write(\"-----------------------------\\n\")\n",
    "    outputFile.write(f\"Total Months: {str(monthsTotal)}\\n\")\n",
    "    outputFile.write(f\"Total: ${str(netTotal)}\\n\")\n",
    "    outputFile.write(f\"Average Change: ${str(averageChange)}\\n\")\n",
    "    outputFile.write(f\"Greatest Increase in Profits: {profitInc} (${str(profitIncVal)})\\n\")\n",
    "    outputFile.write(f\"Greatest Decrease in Profits: {profitDec} (${str(profitDecVal)})\\n\")\n",
    "\n",
    "outputFile.close()"
   ]
  }
 ],
 "metadata": {
  "kernelspec": {
   "display_name": "base",
   "language": "python",
   "name": "python3"
  },
  "language_info": {
   "codemirror_mode": {
    "name": "ipython",
    "version": 3
   },
   "file_extension": ".py",
   "mimetype": "text/x-python",
   "name": "python",
   "nbconvert_exporter": "python",
   "pygments_lexer": "ipython3",
   "version": "3.10.9"
  },
  "orig_nbformat": 4
 },
 "nbformat": 4,
 "nbformat_minor": 2
}
